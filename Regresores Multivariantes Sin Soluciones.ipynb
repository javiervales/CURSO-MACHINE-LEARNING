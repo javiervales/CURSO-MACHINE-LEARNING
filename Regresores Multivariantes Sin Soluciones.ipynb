{
 "cells": [
  {
   "cell_type": "markdown",
   "metadata": {},
   "source": [
    "\n",
    "  <head>\n",
    "    <meta http-equiv=\"Content-Type\" content=\"text/html; charset=utf-8\" />\n",
    "    <meta http-equiv=\"Content-Style-Type\" content=\"text/css\" />\n",
    "    <meta name=\"generator\" content=\"pandoc\" />\n",
    "    <title></title>\n",
    "    <style type=\"text/css\">code{white-space: pre;}</style>\n",
    "  </head>\n",
    "  \n",
    "\n",
    "\n",
    "\n",
    "<h1> AMI </h1> \n",
    "<h1> Aprendizaje Supervisado: Regresores Multivariantes </h1>\n",
    "\n",
    "<br>\n",
    "    \n",
    "En esta práctica continuaremos el estudio de los regresores. Como se ha indicado los regresores son utilizados en el contexto del aprendizaje máquina para predecir el valor de variables de salida continuas y es de tipo supervisado ya que debemos contar con el valor de salida asociado a cada conjunto de entradas. Tras estudiar sistemas univariantes (una sola <em>feature</em>), pasaremos a considerar el caso mucho más frecuente en el que disponemos de n variables de entrada o features y procederemos como en el caso anterior: \n",
    "\n",
    "<ol>\n",
    "    <li> Partiremos de una dataset dado por una matriz <font size=\"+1\"><span class=\"math inline\">$X_{m\\times n}$</span></font> (siendo m el número de registros y n el numero de variables) y por un vector columna <font size=\"+1\"><span class=\"math inline\">$y_{m\\times 1}$</span></font> que contendrá el valor observado de salida para el registro m.\n",
    "    <li> Plantearemos una función de hipótesis <font size=\"+1\"><span class=\"math inline\">$h_{\\theta}(x)$</span></font> que prediga el valor de salida para un vector fila de entradas <font size=\"+1\"><span class=\"math inline\">$x_{1\\times n}$</span></font>\n",
    "    <li> Crearemos una función de coste que dependerá del vector de parámetros del modelo, <font size=\"+1\"><span class=\"math inline\">$\\theta$</span></font>\n",
    "    <li> Mediante un mecanismo de optimización como el descenso del gradiente, buscaremos la parametrización óptima\n",
    "</ol>"
   ]
  },
  {
   "cell_type": "markdown",
   "metadata": {},
   "source": [
    "<h2> Regresores polinómicos </h2>\n",
    "\n",
    "Empezaremos con el caso más sencillo, extendiendo explicitamente un caso con una sóla variable independiente a un sistema multivariante. Como en la sesión anterior, crearemos un dataset de ejemplo:"
   ]
  },
  {
   "cell_type": "code",
   "execution_count": 72,
   "metadata": {},
   "outputs": [
    {
     "data": {
      "image/png": "[encoded data removed]",
      "text/plain": [
       "<Figure size 432x288 with 1 Axes>"
      ]
     },
     "metadata": {
      "needs_background": "light"
     },
     "output_type": "display_data"
    }
   ],
   "source": [
    "# Librerias\n",
    "import numpy as np\n",
    "import os\n",
    "\n",
    "# Para generar figuras\n",
    "%matplotlib inline\n",
    "import matplotlib\n",
    "import matplotlib.pyplot as plt\n",
    "plt.rcParams['axes.labelsize'] = 14\n",
    "plt.rcParams['xtick.labelsize'] = 12\n",
    "plt.rcParams['ytick.labelsize'] = 12\n",
    "\n",
    "# Establecemos la semilla para generar siempre los mismos resultados\n",
    "np.random.seed(1)\n",
    "\n",
    "# Generamos dataset para pruebas\n",
    "X = 2 * np.random.rand(100, 1)\n",
    "y = 5 + 7 * np.power(X,3) - 13 * np.square(X) + 2 * X + np.random.randn(100, 1)\n",
    "\n",
    "# Mostramos el dataset\n",
    "plt.plot(X, y, \"b.\")\n",
    "plt.xlabel(\"$x_1$\", fontsize=18)\n",
    "plt.ylabel(\"$y$\", rotation=0, fontsize=18)\n",
    "plt.axis([0, 2, 0, 15])\n",
    "plt.show()\n"
   ]
  },
  {
   "cell_type": "markdown",
   "metadata": {},
   "source": [
    "Como primera tarea vamos a realizar un ajuste lineal con término independiente, como en la semana anterior. Para ello recuerde que debe añadir una columna de 1's a la matriz X a fin de convertir el problema a notación matricial: \n",
    "\n",
    "Es decir, la función de hipótesis:\n",
    "\n",
    "<p><font size=\"+1\"><span class=\"math inline\">$h_{\\theta} (x) = \\theta_0 + \\theta_1 x$</span></font></p>\n",
    "\n",
    "es equivalente a:\n",
    "\n",
    "<p><font size=\"+1\"><span class=\"math inline\">$x_b' \\theta$</span></font></p>\n",
    "\n",
    "siendo\n",
    "<font size=\"+0.5\"><span class=\"math inline\">$x_b =  \\begin{pmatrix}\n",
    "1 \\\\\n",
    "x\n",
    "\\end{pmatrix}$</span></font>\n",
    "y\n",
    "<font size=\"+0.5\"><span class=\"math inline\">$\\theta =  \\begin{pmatrix}\n",
    "\\theta_0 \\\\\n",
    "\\theta_1\n",
    "\\end{pmatrix}$</span></font>"
   ]
  },
  {
   "cell_type": "code",
   "execution_count": 245,
   "metadata": {},
   "outputs": [
    {
     "data": {
      "image/png": "[encoded data removed]",
      "text/plain": [
       "<Figure size 432x288 with 1 Axes>"
      ]
     },
     "metadata": {
      "needs_background": "light"
     },
     "output_type": "display_data"
    }
   ],
   "source": [
    "def gradient(X,y,theta):\n",
    "    m = X.shape[0]\n",
    "    gradients = 2/m * X.T.dot(X.dot(theta) - y)\n",
    "    return gradients\n",
    "\n",
    "def gradientdescend(X,y): \n",
    "    alpha = 0.1\n",
    "    n_iterations = 100\n",
    "    theta = np.random.randn(X.shape[1],1) # Punto inicial se escoge al azar\n",
    "    \n",
    "    # Iteramos minimizando la funcion    \n",
    "    for iteration in range(n_iterations):\n",
    "        gradients = gradient(X,y,theta)\n",
    "        theta = theta - alpha * gradients\n",
    "    return theta\n",
    "        \n",
    "# Calculamos el ajuste\n",
    "X_b =  # Completar: añadir bias (x0 = 1) a cada instancia\n",
    "theta_best = gradientdescend(X_b, y)\n",
    "\n",
    "# Calculamos la predicción y lo mostramos\n",
    "X_new = np.array([[0], [2]])\n",
    "X_new_b = # Completar: añadir bias (x0 = 1) a cada instancia\n",
    "y_predict = # Completar: calcular la predicción\n",
    "\n",
    "plt.plot(X_new, y_predict, \"r-\")\n",
    "plt.plot(X, y, \"b.\")\n",
    "plt.axis([0, 2, 0, 15])\n",
    "plt.show()"
   ]
  },
  {
   "cell_type": "markdown",
   "metadata": {},
   "source": [
    "Como verá el ajuste es bastante pobre. Una forma de solucionarlo es intentando un ajuste a funciones polínomicas. En este caso, la hipótesis será:\n",
    "\n",
    "<br>\n",
    "<p><font size=\"+1\"><span class=\"math inline\">$h_{\\theta} (x) = \\sum_{p=1}^P \\theta_p x^p$</span></font></p>\n",
    "\n",
    "<h4>Cuestión: Reescriba la ecuación anterior de modo matricial y adapte el código anterior para obtener el mejor ajuste para un polinomio de grado p</h4>"
   ]
  },
  {
   "cell_type": "code",
   "execution_count": 246,
   "metadata": {},
   "outputs": [
    {
     "name": "stdout",
     "output_type": "stream",
     "text": [
      "[[1.00000000e+00 1.44064899e+00 2.07546950e+00 2.99002304e+00]\n",
      " [1.00000000e+00 2.28749635e-04 5.23263954e-08 1.19696438e-11]\n",
      " [1.00000000e+00 6.04665145e-01 3.65619938e-01 2.21077633e-01]]\n"
     ]
    },
    {
     "data": {
      "image/png": "[encoded data removed]",
      "text/plain": [
       "<Figure size 432x288 with 1 Axes>"
      ]
     },
     "metadata": {
      "needs_background": "light"
     },
     "output_type": "display_data"
    }
   ],
   "source": [
    "grados = 3\n",
    "\n",
    "def convierte(X,p):\n",
    "    # Completar: calcule una matrix adecuada al problema polinomico de grado p\n",
    "        \n",
    "    return X_pol\n",
    "    \n",
    "X_pol = convierte(X,grados)\n",
    "print(X_pol[1:4,:])\n",
    "theta_best = gradientdescend(X_pol, y)\n",
    "# print(theta_best)\n",
    "\n",
    "# Calculamos la predicción y lo mostramos\n",
    "X_new = np.linspace(0.0, 2.0, num=100).reshape(100,1)\n",
    "y_predict = # Completar: calcular la prediccion\n",
    "\n",
    "plt.plot(X_new, y_predict, \"r-\")\n",
    "plt.plot(X, y, \"b.\")\n",
    "plt.axis([0, 2, 0, 15])\n",
    "plt.show()"
   ]
  },
  {
   "cell_type": "markdown",
   "metadata": {},
   "source": [
    "Pruebe distintos parámetros del modelo: grado del polinómio (p), factor de aprendizaje (α) y número de iteraciones hasta conseguir un ajuste adecuado. ¿Qué problemas encuentra en el ajuste? ¿A qué son debidos?\n",
    "\n",
    "<h4>Cuestión: Reescriba la función anterior de modo que las columnas de la función X estén normalizadas. Es decir, que tengan media cero y desviación típica 1.</h4>"
   ]
  },
  {
   "cell_type": "code",
   "execution_count": 268,
   "metadata": {},
   "outputs": [
    {
     "data": {
      "image/png": "[encoded data removed]",
      "text/plain": [
       "<Figure size 432x288 with 1 Axes>"
      ]
     },
     "metadata": {
      "needs_background": "light"
     },
     "output_type": "display_data"
    }
   ],
   "source": [
    "grados = 5\n",
    "\n",
    "def gradient(X,y,theta):\n",
    "    m = X.shape[0]\n",
    "    gradients = 2/m * X.T.dot(X.dot(theta) - y)\n",
    "    return gradients\n",
    "\n",
    "def gradientdescend(X,y): \n",
    "    alpha = 0.01\n",
    "    n_iterations = 100\n",
    "    theta = np.random.randn(X.shape[1],1) # Punto inicial se escoge al azar\n",
    "    \n",
    "    # Iteramos minimizando la funcion    \n",
    "    for iteration in range(n_iterations):\n",
    "        gradients = gradient(X,y,theta)\n",
    "        theta = theta - alpha * gradients\n",
    "    return theta\n",
    "\n",
    "def convierteyescala(X,p,escala=0,mu=np.zeros([1,1]),sigma=np.zeros([1,1])):\n",
    "          \n",
    "    if not escala:    \n",
    "        # Completar: normalizar la matriz columna a columna, menos la primera. La normalización se \n",
    "        # realiza restando la media y dividiendo por la desviación tipica\n",
    "        return X_pol, mu, sigma\n",
    "    else:\n",
    "        # Completar: normalizar la matriz columna a columna, usando para la normalización  \n",
    "        # las mus y sigmas recibidas como argumento\n",
    "        return X_pol\n",
    "        \n",
    " \n",
    "\n",
    "X_pol, mu, sigma = convierteyescala(X,grados)\n",
    "theta_best = gradientdescend(X_pol, y)\n",
    "#print(theta_best)\n",
    "\n",
    "# Calculamos la predicción y lo mostramos\n",
    "X_new = np.linspace(0.0, 2.0, num=100).reshape(100,1)\n",
    "y_predict = convierteyescala(X_new,grados,escala=1,mu=mu,sigma=sigma).dot(theta_best) # Prediccion para los puntos x=0.0 y x=2.0\n",
    "\n",
    "plt.plot(X_new, y_predict, \"r-\")\n",
    "plt.plot(X, y, \"b.\")\n",
    "plt.axis([0, 2, 0, 15])\n",
    "plt.show()"
   ]
  },
  {
   "cell_type": "markdown",
   "metadata": {},
   "source": [
    "<h3> Regresión polinómica usando la librería scikit-learn </h3>\n",
    "\n",
    "A continuación mostraremos el uso de las librerías scikit-learn de Python para poder abordar directamente la regresión polinómica. Crearemos un interpolador de tipo lineal tras expandir la matriz X, realizaremos el escalado y posteriormente ajustaremos con un regresor lineal. Como puede comprobar todo el proceso anterior se simplifica enormemente. "
   ]
  },
  {
   "cell_type": "code",
   "execution_count": 167,
   "metadata": {},
   "outputs": [
    {
     "data": {
      "image/png": "[encoded data removed]",
      "text/plain": [
       "<Figure size 432x288 with 1 Axes>"
      ]
     },
     "metadata": {
      "needs_background": "light"
     },
     "output_type": "display_data"
    }
   ],
   "source": [
    "from sklearn.linear_model import LinearRegression\n",
    "from sklearn.preprocessing import PolynomialFeatures\n",
    "from sklearn.preprocessing import StandardScaler\n",
    "from sklearn.pipeline import Pipeline\n",
    "\n",
    "poly_features = PolynomialFeatures(degree=3, include_bias=True) # Configuramos el modelo\n",
    "std_scaler = StandardScaler()\n",
    "lin_reg = LinearRegression()\n",
    "polynomial_regression = Pipeline([\n",
    "    (\"poly_features\", poly_features),\n",
    "    (\"std_scaler\", std_scaler),\n",
    "    (\"lin_reg\", lin_reg),\n",
    "])\n",
    "\n",
    "polynomial_regression.fit(X, y)\n",
    "\n",
    "# Mostramos el resultado\n",
    "y_new = polynomial_regression.predict(X_new)\n",
    "plt.plot(X, y, \"b.\")\n",
    "plt.plot(X_new, y_new, \"r-\", linewidth=2, label=\"Función hipótesis\")\n",
    "plt.xlabel(\"$x_1$\", fontsize=18)\n",
    "plt.ylabel(\"$y$\", rotation=0, fontsize=18)\n",
    "plt.legend(loc=\"upper left\", fontsize=14)\n",
    "plt.axis([0, 2, 0, 15])\n",
    "plt.show()"
   ]
  },
  {
   "cell_type": "markdown",
   "metadata": {},
   "source": [
    "Pruebe subir el grado del polinomio a un número elevado. El efecto que observa se denomina sobre-ajuste <em>overfitting</em> y se puede explicar como un intento del optmizador por ajustarse demasiado bien a las observaciones. La consecuencia es que un algoritmo que tenga overfitting no generalizará correctamente. Para evitar dicho problema debemos recurrir a técnicas de regularización, las cuales se basan en forzar valores pequeños para los parámetros. Los veremos en la próxima sesión."
   ]
  },
  {
   "cell_type": "markdown",
   "metadata": {},
   "source": [
    "<h3>Regresores multivariantes</h3>\n",
    "\n",
    "Todas las técnicas mostradas en la sección anterior pueden ser aplicadas directamente a un problema multivariante, donde la matriz <font size=\"+1\"><span class=\"math inline\">$X_{m\\times n}$</span></font> esté ya construida. Como ejercicio debe aplicar el método anterior al problema siguiente, tanto para el caso directo, como formando versiones polinóminas de <font size=\"+1\"><span class=\"math inline\">$X$</span></font>."
   ]
  },
  {
   "cell_type": "code",
   "execution_count": 290,
   "metadata": {},
   "outputs": [
    {
     "name": "stdout",
     "output_type": "stream",
     "text": [
      "[[ 0.80749145  6.6505056  -1.28661205]\n",
      " [ 1.76659057  8.08589513 -7.12222984]\n",
      " [ 1.31395574  7.52584087 -3.04654164]\n",
      " [ 0.16300196  5.24722275 -6.41361401]\n",
      " [ 0.26901192  5.26026819 -5.03482656]\n",
      " [ 0.01536392  7.575084    4.44691288]\n",
      " [ 1.96438117  6.43783009  1.57051011]\n",
      " [ 0.09534815  6.25084963 -2.93204992]\n",
      " [ 0.21075627  7.44700858 -1.39137885]\n",
      " [ 0.91493085  7.7649374  -7.95370606]\n",
      " [ 0.10880102  6.15489297  2.24596155]\n",
      " [ 0.57817199  7.92186423  5.18466373]\n",
      " [ 1.35594808  7.49955691 -0.27385059]\n",
      " [ 0.09725813  9.5626023   7.98553227]\n",
      " [ 0.91594427  5.47832102  2.56947632]\n",
      " [ 1.14551612  7.72636102 -5.46802016]\n",
      " [ 0.39853337  7.00472408 -2.49472743]\n",
      " [ 0.37233708  9.64722071 -6.82866557]\n",
      " [ 0.2053753   7.35279843 -7.90927515]\n",
      " [ 0.13760052  8.8934398  -7.99458313]\n",
      " [ 0.3379698   8.07405175  4.6810225 ]\n",
      " [ 0.12163307  7.20001132  7.52533569]\n",
      " [ 1.10335724  5.92483442 -7.20054769]\n",
      " [ 1.61581084  8.68578991  7.41543789]\n",
      " [ 1.60868319  6.36092301  7.90385817]\n",
      " [ 1.26236346  7.53978443  7.65371114]\n",
      " [ 1.0834919   8.47877569  7.94986901]\n",
      " [ 0.93427044  8.54796061 -4.22527123]\n",
      " [ 1.92027419  8.79448891  0.39755713]\n",
      " [ 0.57979127  9.6341831  -0.79339584]\n",
      " [ 0.73286814  7.0944049  -6.10963101]\n",
      " [ 1.15068286  6.87530352  6.38138126]\n",
      " [ 1.02516097  8.82379051  6.04227875]\n",
      " [ 1.3484746   7.17852719 -7.1349963 ]\n",
      " [ 1.54934498  5.63701034 -5.15403223]\n",
      " [ 0.36488057  5.96170791  6.65112863]\n",
      " [ 1.2577943   7.96325589  2.25879284]\n",
      " [ 1.38804932  7.51887752 -6.08372547]\n",
      " [ 0.54461604  6.46805535  3.69145151]\n",
      " [ 1.85615599  7.11039268  7.13643405]\n",
      " [ 0.69050071  6.22655466 -7.86849418]\n",
      " [ 1.27616107  5.24920792  4.91044721]\n",
      " [ 1.85159286  9.11488301 -6.21950793]\n",
      " [ 1.96126153  6.05370749 -6.50428845]\n",
      " [ 0.4974564   8.32516862  1.08341658]\n",
      " [ 1.88390501  7.18108207 -6.39244976]\n",
      " [ 1.81815707  8.96555025  7.34788644]\n",
      " [ 0.50195284  6.29514183  3.33490185]\n",
      " [ 0.20210498  5.09998581  7.51302866]\n",
      " [ 0.7247144   5.83334615 -7.77472369]\n",
      " [ 1.84725515  6.89744532 -5.05045341]\n",
      " [ 1.69053852  7.53946403  3.14534284]\n",
      " [ 0.51623999  7.38211826  7.99613092]\n",
      " [ 0.55123779  5.34233115  6.97511158]\n",
      " [ 0.59655544  9.20826427 -7.95541881]\n",
      " [ 0.16283475  7.04745457  7.62405311]\n",
      " [ 0.33666843  6.80997024 -6.84748198]\n",
      " [ 1.22887442  5.46037924 -7.69556651]\n",
      " [ 0.98479331  8.65301084  4.90170075]\n",
      " [ 0.82381203  6.44624924  2.52382429]\n",
      " [ 1.03140838  8.24837283  3.34629831]\n",
      " [ 1.774728    8.17807134 -7.77529109]\n",
      " [ 1.91019756  9.59297369  1.88558027]\n",
      " [ 0.51135353  8.3584783   6.8332359 ]\n",
      " [ 0.46733042  8.37785065  7.99880911]\n",
      " [ 0.14030795  9.85209661 -4.48076767]\n",
      " [ 0.51939943  7.25216342  7.96715204]\n",
      " [ 0.34842581  6.46628019 -6.56416142]\n",
      " [ 0.05512491  7.5074959  -2.74093977]\n",
      " [ 0.34893829  7.3634777   3.0410232 ]\n",
      " [ 1.56091154  9.47092727 -6.99046914]\n",
      " [ 1.84052842  6.57627861 -0.55381665]\n",
      " [ 1.4431753   7.64428651 -2.12727257]\n",
      " [ 0.5968378   8.85365175  7.99377043]\n",
      " [ 1.26291293  5.72139245  3.10431681]\n",
      " [ 1.54036971  7.1740367  -7.85410778]\n",
      " [ 0.8850055   5.0041873   7.98932785]\n",
      " [ 1.23889137  9.61451477  4.96514865]\n",
      " [ 1.147497    7.42499153  3.57287221]\n",
      " [ 1.80548402  8.48022218  6.37974909]\n",
      " [ 1.50478177  5.69195064 -3.51992519]\n",
      " [ 0.52990884  9.19112494  5.48008341]\n",
      " [ 0.45873088  9.99307859  4.31730203]\n",
      " [ 1.38720493  7.78506595  1.26831374]\n",
      " [ 0.46602472  6.61421566 -4.04334   ]\n",
      " [ 1.24385242  5.16046002  3.56908458]\n",
      " [ 0.5098734   6.89944111 -4.57110065]\n",
      " [ 1.84083855  9.04822865  1.10560397]\n",
      " [ 0.60511262  8.189139    6.06471412]\n",
      " [ 1.69708592  6.0997163   3.47951604]\n",
      " [ 0.45941747  8.35128189 -5.60002233]\n",
      " [ 1.14419488  9.17878952  1.11693694]\n",
      " [ 0.37780447  8.57464848 -6.25399781]\n",
      " [ 0.84001604  9.79829762 -3.46936035]\n",
      " [ 0.75247946  6.22440703  5.40422184]\n",
      " [ 0.07807395  8.57356527  2.32061772]\n",
      " [ 0.25590015  6.17751845  7.45070105]\n",
      " [ 1.50752175  5.78714854 -7.07222872]\n",
      " [ 0.82522309  7.72491031  1.03712433]\n",
      " [ 1.60817284  5.70805524  6.29129809]] [[1871.5792397  3515.1574812  2797.32003765 ... 1170.67766968\n",
      "  3039.43478338 1116.00844153]\n",
      " [1871.27632242 3514.85456392 2797.01712037 ... 1170.3747524\n",
      "  3039.1318661  1115.70552425]\n",
      " [1869.35645624 3512.93469774 2795.09725418 ... 1168.45488622\n",
      "  3037.21199991 1113.78565807]\n",
      " ...\n",
      " [1871.64381607 3515.22205757 2797.38461401 ... 1170.74224605\n",
      "  3039.49935974 1116.0730179 ]\n",
      " [1871.47707239 3515.05531389 2797.21787033 ... 1170.57550236\n",
      "  3039.33261606 1115.90627422]\n",
      " [1869.81579883 3513.39404033 2795.55659677 ... 1168.9142288\n",
      "  3037.6713425  1114.24500065]]\n"
     ]
    }
   ],
   "source": [
    "# Generamos dataset para pruebas\n",
    "X = np.c_[2 * np.random.rand(100, 1), 10 - 5*np.random.rand(100,1), 8*np.sin(np.random.rand(100,1)*2*np.pi*3)]\n",
    "y = 5 + 7 * np.power(X[:,1],3) - 13 * np.square(X[:,2].dot(X[:,0])) + 2 * X[:,0] + np.random.randn(100, 1)\n",
    "\n",
    "print(X,y)\n",
    "\n",
    "# FALTA: Debe crear un predictor adecuado a estos datos"
   ]
  },
  {
   "cell_type": "markdown",
   "metadata": {},
   "source": [
    "<hr>\n",
    "<h1> Funciones útiles de Python para el desarrollo de la práctica </h1>\n",
    "\n",
    "<ul>\n",
    "<li> Multiplicacion matrices A y B con numpy: A.dot(B)\n",
    "<li> Traspuesta de matriz A con numpy: A.T\n",
    "<li> Inversión de matriz A con numpy: np.linalg.inv(A)\n",
    "<li> Matriz A por vector 𝜃 con numpy: A.dot(theta)\n",
    "<li> Medida de tiempo de una orden con ipython: %timeit ...\n",
    "<li> Medida de tiempo de un bloque con python: <br>\n",
    "    start_time = timeit.default_timer()<br>\n",
    "    ...<br>\n",
    "    elapsed = timeit.default_timer() - start_time\n",
    "<li> Concatenación de vector columna: np.c_[a,b]\n",
    "<li> Asignación condicional: x = 5 if a==0 else 3\n",
    "<li> Bucle for de 0 a n-1: for i in range(0,n):\n",
    "<li> Bucle for de 0 a 1 con 5 pasos: for i in linspace(0.0,1.0,num=5):\n",
    "<li> Cálculo de la media: np.mean() \n",
    "<li> Cálculo de la desviación tipica: np.std()   \n",
    "</ul>"
   ]
  },
  {
   "cell_type": "code",
   "execution_count": null,
   "metadata": {},
   "outputs": [],
   "source": []
  }
 ],
 "metadata": {
  "kernelspec": {
   "display_name": "Python 3",
   "language": "python",
   "name": "python3"
  },
  "language_info": {
   "codemirror_mode": {
    "name": "ipython",
    "version": 3
   },
   "file_extension": ".py",
   "mimetype": "text/x-python",
   "name": "python",
   "nbconvert_exporter": "python",
   "pygments_lexer": "ipython3",
   "version": "3.5.3"
  }
 },
 "nbformat": 4,
 "nbformat_minor": 2
}
